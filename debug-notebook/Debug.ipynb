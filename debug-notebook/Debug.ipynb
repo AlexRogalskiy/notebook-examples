{
 "cells": [
  {
   "cell_type": "code",
   "execution_count": 7,
   "metadata": {},
   "outputs": [],
   "source": [
    "import os\n",
    "import pandas as pd\n",
    "import numpy as np\n",
    "import matplotlib.pyplot as plt"
   ]
  },
  {
   "cell_type": "code",
   "execution_count": 8,
   "metadata": {},
   "outputs": [
    {
     "name": "stdout",
     "output_type": "stream",
     "text": [
      "Here is the input directory /Users/taronfoxworth/src/losant/losant-notebook-examples/debug-notebook\n",
      "Here is the output directory /Users/taronfoxworth/src/losant/losant-notebook-examples/debug-notebook\n",
      "✅ If you see directories above, Losant Environment Variables look good\n"
     ]
    }
   ],
   "source": [
    "# Checking for Losant Environment Variables\n",
    "\n",
    "if os.getenv(\"INPUT_DIR\") is None:\n",
    "    raise Exception('❌INPUT_DIR is not a valid environment variable.')\n",
    "\n",
    "if os.getenv(\"OUTPUT_DIR\") is None:\n",
    "    raise Exception('❌OUTPUT_DIR is not a valid environment variable.')\n",
    "    \n",
    "input_dir = os.path.join(os.environ['INPUT_DIR'])\n",
    "output_dir = os.path.join(os.environ['OUTPUT_DIR'])\n",
    "\n",
    "print(\"Here is the input directory \" + input_dir)\n",
    "print(\"Here is the output directory \" + output_dir)\n",
    "\n",
    "print(\"✅ If you see directories above, Losant Environment Variables look good\")"
   ]
  },
  {
   "cell_type": "code",
   "execution_count": 9,
   "metadata": {},
   "outputs": [],
   "source": [
    "# list_files will list all the files in a directory\n",
    "def list_files(directory):\n",
    "    for root, dirs, files in os.walk(directory):\n",
    "        level = root.replace(directory, '').count(os.sep)\n",
    "        indent = ' ' * 4 * (level)\n",
    "        print('{}{}/'.format(indent, os.path.basename(root)))\n",
    "        subindent = ' ' * 4 * (level + 1)\n",
    "        for f in files:\n",
    "            print('{}{}'.format(subindent, f))   "
   ]
  },
  {
   "cell_type": "code",
   "execution_count": 10,
   "metadata": {},
   "outputs": [
    {
     "name": "stdout",
     "output_type": "stream",
     "text": [
      "debug-notebook/\n",
      "    Debug.ipynb\n",
      "    .ipynb_checkpoints/\n",
      "        Debug-checkpoint.ipynb\n",
      "❓ Do the inputs above look correct?\n"
     ]
    }
   ],
   "source": [
    "list_files(input_dir)\n",
    "print(\"❓ Do the inputs above look correct?\")"
   ]
  },
  {
   "cell_type": "code",
   "execution_count": 11,
   "metadata": {},
   "outputs": [
    {
     "name": "stdout",
     "output_type": "stream",
     "text": [
      "debug-notebook/\n",
      "    Debug.ipynb\n",
      "    .ipynb_checkpoints/\n",
      "        Debug-checkpoint.ipynb\n",
      "❓ Do the outputs above look correct?\n"
     ]
    }
   ],
   "source": [
    "list_files(output_dir)\n",
    "print(\"❓ Do the outputs above look correct?\")"
   ]
  },
  {
   "cell_type": "code",
   "execution_count": 12,
   "metadata": {},
   "outputs": [
    {
     "data": {
      "text/plain": [
       "count    10080.000000\n",
       "mean        -0.008853\n",
       "std          0.995411\n",
       "min         -3.936794\n",
       "25%         -0.683442\n",
       "50%          0.002640\n",
       "75%          0.654986\n",
       "max          3.906053\n",
       "Name: HelloTimeSeries, dtype: float64"
      ]
     },
     "execution_count": 12,
     "metadata": {},
     "output_type": "execute_result"
    }
   ],
   "source": [
    "# Let's write an output file to make sure that works.\n",
    "\n",
    "# I want 7 days of 24 hours with 60 minutes each\n",
    "periods = 7 * 24 * 60\n",
    "tidx = pd.date_range('2016-07-01', periods=periods, freq='T')\n",
    "#                     ^                                   ^\n",
    "#                     |                                   |\n",
    "#                 Start Date        Frequency Code for Minute\n",
    "# This should get me 7 Days worth of minutes in a datetimeindex\n",
    "\n",
    "# Generate random data with numpy.  We'll seed the random\n",
    "# number generator so that others can see the same results.\n",
    "# Otherwise, you don't have to seed it.\n",
    "np.random.seed([3,1415])\n",
    "\n",
    "# This will pick a number of normally distributed random numbers\n",
    "# where the number is specified by periods\n",
    "data = np.random.randn(periods)\n",
    "\n",
    "ts = pd.Series(data=data, index=tidx, name='HelloTimeSeries')\n",
    "\n",
    "ts.describe()"
   ]
  },
  {
   "cell_type": "code",
   "execution_count": null,
   "metadata": {},
   "outputs": [],
   "source": []
  }
 ],
 "metadata": {
  "kernelspec": {
   "display_name": "Python 3",
   "language": "python",
   "name": "python3"
  },
  "language_info": {
   "codemirror_mode": {
    "name": "ipython",
    "version": 3
   },
   "file_extension": ".py",
   "mimetype": "text/x-python",
   "name": "python",
   "nbconvert_exporter": "python",
   "pygments_lexer": "ipython3",
   "version": "3.6.5"
  }
 },
 "nbformat": 4,
 "nbformat_minor": 2
}
