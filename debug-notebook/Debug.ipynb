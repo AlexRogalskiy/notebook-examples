{
 "cells": [
  {
   "cell_type": "code",
   "execution_count": 1,
   "metadata": {},
   "outputs": [],
   "source": [
    "import os"
   ]
  },
  {
   "cell_type": "code",
   "execution_count": 2,
   "metadata": {},
   "outputs": [
    {
     "name": "stdout",
     "output_type": "stream",
     "text": [
      "Here is the input directory /Users/taronfoxworth/src/losant/losant-notebook-examples/debug-notebook\n",
      "Here is the output directory /Users/taronfoxworth/src/losant/losant-notebook-examples/debug-notebook\n",
      "✅ If you see directories above, Losant Environment Variables look good\n"
     ]
    }
   ],
   "source": [
    "# Checking for Losant Environment Variables\n",
    "\n",
    "if os.getenv(\"INPUT_DIR\") is None:\n",
    "    raise Exception('❌INPUT_DIR is not a valid environment variable.')\n",
    "\n",
    "if os.getenv(\"OUTPUT_DIR\") is None:\n",
    "    raise Exception('❌OUTPUT_DIR is not a valid environment variable.')\n",
    "    \n",
    "input_dir = os.path.join(os.environ['INPUT_DIR'])\n",
    "output_dir = os.path.join(os.environ['OUTPUT_DIR'])\n",
    "\n",
    "print(\"Here is the input directory \" + input_dir)\n",
    "print(\"Here is the output directory \" + output_dir)\n",
    "\n",
    "print(\"✅ If you see directories above, Losant Environment Variables look good\")"
   ]
  },
  {
   "cell_type": "code",
   "execution_count": 3,
   "metadata": {},
   "outputs": [],
   "source": [
    "# list_files will list all the files in a directory\n",
    "def list_files(directory):\n",
    "    for root, dirs, files in os.walk(directory):\n",
    "        level = root.replace(directory, '').count(os.sep)\n",
    "        indent = ' ' * 4 * (level)\n",
    "        print('{}{}/'.format(indent, os.path.basename(root)))\n",
    "        subindent = ' ' * 4 * (level + 1)\n",
    "        for f in files:\n",
    "            print('{}{}'.format(subindent, f))   "
   ]
  },
  {
   "cell_type": "code",
   "execution_count": 4,
   "metadata": {},
   "outputs": [
    {
     "name": "stdout",
     "output_type": "stream",
     "text": [
      "debug-notebook/\n",
      "    Debug.ipynb\n",
      "    .ipynb_checkpoints/\n",
      "        Debug-checkpoint.ipynb\n",
      "❓ Do the inputs above look correct?\n"
     ]
    }
   ],
   "source": [
    "list_files(input_dir)\n",
    "print(\"❓ Do the inputs above look correct?\")"
   ]
  },
  {
   "cell_type": "code",
   "execution_count": 5,
   "metadata": {},
   "outputs": [
    {
     "name": "stdout",
     "output_type": "stream",
     "text": [
      "debug-notebook/\n",
      "    Debug.ipynb\n",
      "    .ipynb_checkpoints/\n",
      "        Debug-checkpoint.ipynb\n",
      "❓ Do the outputs above look correct?\n"
     ]
    }
   ],
   "source": [
    "list_files(output_dir)\n",
    "print(\"❓ Do the outputs above look correct?\")"
   ]
  },
  {
   "cell_type": "code",
   "execution_count": null,
   "metadata": {},
   "outputs": [],
   "source": [
    "# Let's write an output file to make sure that works."
   ]
  }
 ],
 "metadata": {
  "kernelspec": {
   "display_name": "Python 3",
   "language": "python",
   "name": "python3"
  },
  "language_info": {
   "codemirror_mode": {
    "name": "ipython",
    "version": 3
   },
   "file_extension": ".py",
   "mimetype": "text/x-python",
   "name": "python",
   "nbconvert_exporter": "python",
   "pygments_lexer": "ipython3",
   "version": "3.6.5"
  }
 },
 "nbformat": 4,
 "nbformat_minor": 2
}
