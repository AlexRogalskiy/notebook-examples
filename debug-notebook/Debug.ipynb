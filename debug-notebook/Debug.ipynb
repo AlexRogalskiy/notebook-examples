{
 "cells": [
  {
   "cell_type": "code",
   "execution_count": null,
   "metadata": {},
   "outputs": [],
   "source": [
    "import os\n",
    "import pandas as pd\n",
    "import numpy as np\n",
    "import matplotlib.pyplot as plt\n",
    "from pathlib import Path\n",
    "\n",
    "print(\"👋Welcome to the Losant Debug Notebook.\")\n",
    "print(\"This notebook will verify that we can read inputs and write outputs properly.\")"
   ]
  },
  {
   "cell_type": "code",
   "execution_count": null,
   "metadata": {},
   "outputs": [],
   "source": [
    "# Checking for Losant Environment Variables\n",
    "\n",
    "# Does INPUT_DIR exist? \n",
    "if os.getenv(\"INPUT_DIR\") is None:\n",
    "    raise Exception('❌INPUT_DIR is not a valid environment variable.')\n",
    "\n",
    "# Does OUTPUT_DIR exist?    \n",
    "if os.getenv(\"OUTPUT_DIR\") is None:\n",
    "    raise Exception('❌OUTPUT_DIR is not a valid environment variable.')\n",
    "\n",
    "# Let's read and print both\n",
    "input_dir = os.path.join(os.environ['INPUT_DIR'])\n",
    "output_dir = os.path.join(os.environ['OUTPUT_DIR'])\n",
    "\n",
    "print(\"Here is the input directory \" + input_dir)\n",
    "print(\"Here is the output directory \" + output_dir)\n",
    "\n",
    "print(\"✅ If you see directories above, Losant Environment Variables look good\")"
   ]
  },
  {
   "cell_type": "code",
   "execution_count": null,
   "metadata": {},
   "outputs": [],
   "source": [
    "# list_files will list all the files in a directory\n",
    "def list_files(directory):\n",
    "    for root, dirs, files in os.walk(directory):\n",
    "        level = root.replace(directory, '').count(os.sep)\n",
    "        indent = ' ' * 4 * (level)\n",
    "        print('{}{}/'.format(indent, os.path.basename(root)))\n",
    "        subindent = ' ' * 4 * (level + 1)\n",
    "        for f in files:\n",
    "            print('{}{}'.format(subindent, f))   "
   ]
  },
  {
   "cell_type": "code",
   "execution_count": null,
   "metadata": {},
   "outputs": [],
   "source": [
    "# Let's list the input files\n",
    "list_files(input_dir)\n",
    "print(\"❓ Do the inputs above look correct?\")"
   ]
  },
  {
   "cell_type": "code",
   "execution_count": null,
   "metadata": {},
   "outputs": [],
   "source": [
    "# Let's list the output files\n",
    "list_files(output_dir)\n",
    "print(\"❓ Do the outputs above look correct?\")"
   ]
  },
  {
   "cell_type": "code",
   "execution_count": null,
   "metadata": {},
   "outputs": [],
   "source": [
    "# Let's write an output file to make sure that works.\n",
    "\n",
    "# Let's generate some random data\n",
    "periods = 7 * 24 * 60\n",
    "tidx = pd.date_range('2016-07-01', periods=periods, freq='T')\n",
    "np.random.seed([3,1415])\n",
    "data = np.random.randn(periods)\n",
    "ts = pd.Series(data=data, index=tidx, name='HelloTimeSeries')\n",
    "ts.describe()\n",
    "\n",
    "print(\"ℹ️ Above is just information about the random data.\")"
   ]
  },
  {
   "cell_type": "code",
   "execution_count": null,
   "metadata": {},
   "outputs": [],
   "source": [
    "# Let's create and save a chart\n",
    "chart = ts.resample('15T').agg(['min', 'mean', 'max']).plot()\n",
    "fig = chart.get_figure()\n",
    "\n",
    "output_path = os.path.join(output_dir, 'chart.png')\n",
    "fig.savefig(output_path)"
   ]
  },
  {
   "cell_type": "code",
   "execution_count": null,
   "metadata": {},
   "outputs": [],
   "source": [
    "# Let's check if that chart.png was created and exists in the output directory\n",
    "list_files(output_dir)\n",
    "my_file = Path(os.path.join(output_dir, 'chart.png'))\n",
    "\n",
    "if not my_file.exists():\n",
    "    raise Exception(\"❌ Looks like the chart didn't properly save.\")\n",
    "    \n",
    "print(\"✅ Looks like we can create files and write to output.\")"
   ]
  },
  {
   "cell_type": "code",
   "execution_count": null,
   "metadata": {},
   "outputs": [],
   "source": [
    "print(\"ℹ️ If you're still having problems with inputs or outpus, post a message in the Losant Forums\")\n",
    "print(\"https://forums.losant.com\")"
   ]
  },
  {
   "cell_type": "code",
   "execution_count": null,
   "metadata": {},
   "outputs": [],
   "source": [
    "print(\"ℹ️ If you think you have an issue in your code, we can't help much there. Try these resources: \")\n",
    "print(\"Stack Overflow: https://stackoverflow.com\")\n",
    "print(\"Notebook Resources: https://docs.losant.com/notebooks/notebook-file/resources/\")"
   ]
  },
  {
   "cell_type": "code",
   "execution_count": null,
   "metadata": {},
   "outputs": [],
   "source": []
  }
 ],
 "metadata": {
  "kernelspec": {
   "display_name": "Python 3",
   "language": "python",
   "name": "python3"
  },
  "language_info": {
   "codemirror_mode": {
    "name": "ipython",
    "version": 3
   },
   "file_extension": ".py",
   "mimetype": "text/x-python",
   "name": "python",
   "nbconvert_exporter": "python",
   "pygments_lexer": "ipython3",
   "version": "3.6.5"
  }
 },
 "nbformat": 4,
 "nbformat_minor": 2
}
