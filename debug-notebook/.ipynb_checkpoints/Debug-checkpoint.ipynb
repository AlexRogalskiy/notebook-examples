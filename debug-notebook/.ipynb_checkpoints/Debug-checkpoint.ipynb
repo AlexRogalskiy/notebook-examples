{
 "cells": [
  {
   "cell_type": "code",
   "execution_count": 1,
   "metadata": {},
   "outputs": [],
   "source": [
    "import os"
   ]
  },
  {
   "cell_type": "code",
   "execution_count": 2,
   "metadata": {},
   "outputs": [
    {
     "name": "stdout",
     "output_type": "stream",
     "text": [
      "Here is the input directory /Users/taronfoxworth/src/losant/losant-notebook-examples/debug-notebook\n",
      "Here is the output directory /Users/taronfoxworth/src/losant/losant-notebook-examples/debug-notebook\n"
     ]
    }
   ],
   "source": [
    "# Checking for Losant Environment Variables\n",
    "\n",
    "if os.getenv(\"INPUT_DIR\") is None:\n",
    "    raise Exception('INPUT_DIR is not a valid environment variable.')\n",
    "\n",
    "if os.getenv(\"OUTPUT_DIR\") is None:\n",
    "    raise Exception('OUTPUT_DIR is not a valid environment variable.')\n",
    "    \n",
    "input_dir = os.path.join(os.environ['INPUT_DIR'])\n",
    "output_dir = os.path.join(os.environ['OUTPUT_DIR'])\n",
    "\n",
    "print(\"Here is the input directory \" + input_dir)\n",
    "print(\"Here is the output directory \" + output_dir)"
   ]
  },
  {
   "cell_type": "code",
   "execution_count": 3,
   "metadata": {},
   "outputs": [],
   "source": [
    "\n",
    "def list_files(path):\n",
    "    for root, dirs, files in os.walk(path):\n",
    "        level = root.replace(path, '').count(os.sep)\n",
    "        indent = ' ' * 4 * (level)\n",
    "        print('{}{}/'.format(indent, os.path.basename(root)))\n",
    "        subindent = ' ' * 4 * (level + 1)\n",
    "        for f in files:\n",
    "            print('{}{}'.format(subindent, f))\n",
    "            "
   ]
  },
  {
   "cell_type": "code",
   "execution_count": 4,
   "metadata": {},
   "outputs": [
    {
     "name": "stdout",
     "output_type": "stream",
     "text": [
      "debug-notebook/\n",
      "    Debug.ipynb\n",
      "    .ipynb_checkpoints/\n",
      "        Debug-checkpoint.ipynb\n"
     ]
    }
   ],
   "source": [
    "list_files(input_dir)"
   ]
  },
  {
   "cell_type": "code",
   "execution_count": 5,
   "metadata": {},
   "outputs": [
    {
     "name": "stdout",
     "output_type": "stream",
     "text": [
      "debug-notebook/\n",
      "    Debug.ipynb\n",
      "    .ipynb_checkpoints/\n",
      "        Debug-checkpoint.ipynb\n"
     ]
    }
   ],
   "source": [
    "list_files(output_dir)"
   ]
  },
  {
   "cell_type": "code",
   "execution_count": null,
   "metadata": {},
   "outputs": [],
   "source": []
  }
 ],
 "metadata": {
  "kernelspec": {
   "display_name": "Python 3",
   "language": "python",
   "name": "python3"
  },
  "language_info": {
   "codemirror_mode": {
    "name": "ipython",
    "version": 3
   },
   "file_extension": ".py",
   "mimetype": "text/x-python",
   "name": "python",
   "nbconvert_exporter": "python",
   "pygments_lexer": "ipython3",
   "version": "3.6.5"
  }
 },
 "nbformat": 4,
 "nbformat_minor": 2
}
